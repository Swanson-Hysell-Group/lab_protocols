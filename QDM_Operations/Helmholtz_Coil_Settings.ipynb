{
 "cells": [
  {
   "cell_type": "code",
   "execution_count": 1,
   "metadata": {},
   "outputs": [],
   "source": [
    "import numpy as np"
   ]
  },
  {
   "cell_type": "markdown",
   "metadata": {},
   "source": [
    "## Helmholtz coils on the QDM\n",
    "\n",
    "The Helmholtz coils on the QDM generate 500 μΤ/Α. The goal is to generate a field that is 9 Gauss that is in the y-direction and  35.26˚ out of the plane."
   ]
  },
  {
   "cell_type": "markdown",
   "metadata": {},
   "source": [
    "### Default settings as of 2/24/2021"
   ]
  },
  {
   "cell_type": "code",
   "execution_count": 25,
   "metadata": {},
   "outputs": [
    {
     "name": "stdout",
     "output_type": "stream",
     "text": [
      "total field: 8.95 G\n",
      "angle: 43.56º\n"
     ]
    }
   ],
   "source": [
    "x_curr = 20 #mA\n",
    "y_curr = 1500\n",
    "z_curr = 975\n",
    "\n",
    "x_field = x_curr/1000*500/100 #convert from mA to G\n",
    "y_field = y_curr/1000*500/100 #convert from mA to G\n",
    "z_field = z_curr/1000*500/100 #convert from mA to G\n",
    "\n",
    "total_field = np.sqrt(x_field**2+y_field**2+z_field**2)\n",
    "print('total field: ' + str(np.round(total_field,2)) + ' G')\n",
    "\n",
    "up_down_angle = np.rad2deg(np.tan(z_field/y_field))\n",
    "print('angle: ' + str(np.round(up_down_angle,2)) + 'º')"
   ]
  },
  {
   "cell_type": "markdown",
   "metadata": {},
   "source": [
    "### Default settings and measurement of field within coils (with coils off)"
   ]
  },
  {
   "cell_type": "code",
   "execution_count": 29,
   "metadata": {},
   "outputs": [],
   "source": [
    "room_x = 0.14\n",
    "room_y = 0.15\n",
    "room_z = 0.07"
   ]
  },
  {
   "cell_type": "code",
   "execution_count": 30,
   "metadata": {},
   "outputs": [
    {
     "name": "stdout",
     "output_type": "stream",
     "text": [
      "total field: 9.11 G\n",
      "angle: 43.23º\n"
     ]
    }
   ],
   "source": [
    "x_curr = 20 #mA\n",
    "y_curr = 1500\n",
    "z_curr = 975\n",
    "\n",
    "x_field = x_curr/1000*500/100 #convert from mA to G\n",
    "y_field = y_curr/1000*500/100 #convert from mA to G\n",
    "z_field = z_curr/1000*500/100 #convert from mA to G\n",
    "\n",
    "x_field = x_field + room_x\n",
    "y_field = y_field + room_y\n",
    "z_field = z_field + room_z\n",
    "\n",
    "total_field = np.sqrt(x_field**2+y_field**2+z_field**2)\n",
    "print('total field: ' + str(np.round(total_field,2)) + ' G')\n",
    "\n",
    "up_down_angle = np.rad2deg(np.tan(z_field/y_field))\n",
    "print('angle: ' + str(np.round(up_down_angle,2)) + 'º')"
   ]
  },
  {
   "cell_type": "markdown",
   "metadata": {},
   "source": [
    "### Adjustments to obtained 9 G at 35.3º"
   ]
  },
  {
   "cell_type": "code",
   "execution_count": 52,
   "metadata": {},
   "outputs": [
    {
     "name": "stdout",
     "output_type": "stream",
     "text": [
      "total field: 9.0 G\n",
      "angle: 35.32º\n"
     ]
    }
   ],
   "source": [
    "x_curr = 0 #mA\n",
    "y_curr = 1575\n",
    "z_curr = 870\n",
    "\n",
    "x_field = x_curr/1000*500/100 #convert from mA to G\n",
    "y_field = y_curr/1000*500/100 #convert from mA to G\n",
    "z_field = z_curr/1000*500/100 #convert from mA to G\n",
    "\n",
    "total_field = np.sqrt(x_field**2+y_field**2+z_field**2)\n",
    "print('total field: ' + str(np.round(total_field,2)) + ' G')\n",
    "\n",
    "up_down_angle = np.rad2deg(np.tan(z_field/y_field))\n",
    "print('angle: ' + str(np.round(up_down_angle,2)) + 'º')"
   ]
  },
  {
   "cell_type": "code",
   "execution_count": null,
   "metadata": {},
   "outputs": [],
   "source": []
  }
 ],
 "metadata": {
  "kernelspec": {
   "display_name": "Python 3",
   "language": "python",
   "name": "python3"
  },
  "language_info": {
   "codemirror_mode": {
    "name": "ipython",
    "version": 3
   },
   "file_extension": ".py",
   "mimetype": "text/x-python",
   "name": "python",
   "nbconvert_exporter": "python",
   "pygments_lexer": "ipython3",
   "version": "3.8.5"
  }
 },
 "nbformat": 4,
 "nbformat_minor": 4
}
