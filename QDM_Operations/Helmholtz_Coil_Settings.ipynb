{
 "cells": [
  {
   "cell_type": "code",
   "execution_count": 4,
   "metadata": {},
   "outputs": [],
   "source": [
    "import numpy as np"
   ]
  },
  {
   "cell_type": "markdown",
   "metadata": {},
   "source": [
    "## Helmholtz coils on the QDM\n",
    "\n",
    "The Helmholtz coils on the QDM generate 500 μΤ/Α. The goal is to generate a field that is 9 Gauss that is in the y-direction and  35.26˚ out of the plane."
   ]
  },
  {
   "cell_type": "markdown",
   "metadata": {},
   "source": [
    "### Default settings as of 2/24/2021"
   ]
  },
  {
   "cell_type": "code",
   "execution_count": 22,
   "metadata": {},
   "outputs": [
    {
     "name": "stdout",
     "output_type": "stream",
     "text": [
      "total field: 8.92 G\n",
      "angle: 31.24º\n"
     ]
    }
   ],
   "source": [
    "x_curr = 0 #mA\n",
    "y_curr = 1525\n",
    "z_curr = 925\n",
    "\n",
    "x_field = x_curr/1000*500/100 #convert from mA to G\n",
    "y_field = y_curr/1000*500/100 #convert from mA to G\n",
    "z_field = z_curr/1000*500/100 #convert from mA to G\n",
    "\n",
    "total_field = np.sqrt(x_field**2+y_field**2+z_field**2)\n",
    "print('total field: ' + str(np.round(total_field,2)) + ' G')\n",
    "\n",
    "up_down_angle = np.rad2deg(np.arctan(z_field/y_field))\n",
    "print('angle: ' + str(np.round(up_down_angle,2)) + 'º')"
   ]
  },
  {
   "cell_type": "markdown",
   "metadata": {},
   "source": [
    "### Default settings and measurement of field within coils (with coils off)"
   ]
  },
  {
   "cell_type": "code",
   "execution_count": 4,
   "metadata": {},
   "outputs": [],
   "source": [
    "room_x = 0.14\n",
    "room_y = 0.15\n",
    "room_z = 0.07"
   ]
  },
  {
   "cell_type": "code",
   "execution_count": 5,
   "metadata": {},
   "outputs": [
    {
     "name": "stdout",
     "output_type": "stream",
     "text": [
      "total field: 9.11 G\n",
      "angle: 32.88º\n"
     ]
    }
   ],
   "source": [
    "x_curr = 20 #mA\n",
    "y_curr = 1500\n",
    "z_curr = 975\n",
    "\n",
    "x_field = x_curr/1000*500/100 #convert from mA to G\n",
    "y_field = y_curr/1000*500/100 #convert from mA to G\n",
    "z_field = z_curr/1000*500/100 #convert from mA to G\n",
    "\n",
    "x_field = x_field + room_x\n",
    "y_field = y_field + room_y\n",
    "z_field = z_field + room_z\n",
    "\n",
    "total_field = np.sqrt(x_field**2+y_field**2+z_field**2)\n",
    "print('total field: ' + str(np.round(total_field,2)) + ' G')\n",
    "\n",
    "up_down_angle = np.rad2deg(np.arctan(z_field/y_field))\n",
    "print('angle: ' + str(np.round(up_down_angle,2)) + 'º')"
   ]
  },
  {
   "cell_type": "markdown",
   "metadata": {},
   "source": [
    "### Adjustments to obtained 9 G at 35.3º"
   ]
  },
  {
   "cell_type": "markdown",
   "metadata": {},
   "source": [
    "#### positive polarity"
   ]
  },
  {
   "cell_type": "code",
   "execution_count": 27,
   "metadata": {},
   "outputs": [
    {
     "name": "stdout",
     "output_type": "stream",
     "text": [
      "total field: 9.23 G\n",
      "angle: 35.62º\n",
      "currents for x, y, z:  28.0 1499.8 1074.3\n"
     ]
    }
   ],
   "source": [
    "x_field = 0 + room_x\n",
    "y_field = 9*np.cos(np.deg2rad(35.26)) + room_y # G\n",
    "z_field = y_field * np.tan(np.deg2rad(35.26)) + room_z\n",
    "\n",
    "x_curr = x_field*100/500*1000 #mA\n",
    "y_curr = y_field*100/500*1000 \n",
    "z_curr = z_field*100/500*1000 \n",
    "\n",
    "total_field = np.sqrt(x_field**2+y_field**2+z_field**2)\n",
    "print('total field: ' + str(np.round(total_field,2)) + ' G')\n",
    "\n",
    "up_down_angle = np.rad2deg(np.arctan(z_field/y_field))\n",
    "print('angle: ' + str(np.round(up_down_angle,2)) + 'º')\n",
    "\n",
    "print('currents for x, y, z: ', round(x_curr,1), round(y_curr,1), round(z_curr,1))"
   ]
  },
  {
   "cell_type": "markdown",
   "metadata": {},
   "source": [
    "#### negative polarity"
   ]
  },
  {
   "cell_type": "code",
   "execution_count": 28,
   "metadata": {},
   "outputs": [
    {
     "name": "stdout",
     "output_type": "stream",
     "text": [
      "total field: 8.78 G\n",
      "angle: 34.89º\n",
      "currents for x, y, z:  -28.0 1439.8 1003.9\n"
     ]
    }
   ],
   "source": [
    "x_field = 0 - room_x\n",
    "y_field = 9*np.cos(np.deg2rad(35.26)) - room_y # G\n",
    "z_field = y_field * np.tan(np.deg2rad(35.26)) - room_z\n",
    "\n",
    "x_curr = x_field*100/500*1000 #mA\n",
    "y_curr = y_field*100/500*1000 \n",
    "z_curr = z_field*100/500*1000 \n",
    "\n",
    "total_field = np.sqrt(x_field**2+y_field**2+z_field**2)\n",
    "print('total field: ' + str(np.round(total_field,2)) + ' G')\n",
    "\n",
    "up_down_angle = np.rad2deg(np.arctan(z_field/y_field))\n",
    "print('angle: ' + str(np.round(up_down_angle,2)) + 'º')\n",
    "\n",
    "print('currents for x, y, z: ', round(x_curr,1), round(y_curr,1), round(z_curr,1))"
   ]
  },
  {
   "cell_type": "code",
   "execution_count": 36,
   "metadata": {},
   "outputs": [],
   "source": [
    "def balance_field(room_x, room_y, room_z):\n",
    "    # x field cancel out room x all the time\n",
    "    x_field = room_x\n",
    "    x_curr = room_x*100/500*1000\n",
    "    \n",
    "    # y field need to consider the room y\n",
    "    y_pos_field = 9*np.cos(np.deg2rad(35.26)) - room_y\n",
    "    y_pos_curr = y_pos_field*100/500*1000\n",
    "    y_neg_field = 9*np.cos(np.deg2rad(35.26)) + room_y\n",
    "    y_neg_curr = y_neg_field*100/500*1000\n",
    "    \n",
    "    # z field need to consider the room y\n",
    "    z_pos_field = 9*np.sin(np.deg2rad(35.26)) - room_z\n",
    "    z_pos_curr = z_field*100/500*1000\n",
    "    z_neg_field = 9*np.sin(np.deg2rad(35.26)) + room_z\n",
    "    z_neg_curr = z_neg_field*100/500*1000\n",
    "    \n",
    "    x_pos_total_field = x_field + room_x\n",
    "    y_pos_total_field = y_pos_field + room_y\n",
    "    z_pos_total_field = z_pos_field + room_z\n",
    "    \n",
    "    x_neg_total_field = x_field + room_x\n",
    "    y_neg_total_field = y_neg_field - room_y\n",
    "    z_neg_total_field = z_neg_field - room_z\n",
    "    \n",
    "    total_pos_field = np.sqrt(x_pos_total_field**2+y_pos_total_field**2+z_pos_total_field**2)\n",
    "    print('total postive polarity field: ' + str(np.round(total_pos_field,2)) + ' G')\n",
    "\n",
    "    total_neg_field = np.sqrt(x_neg_total_field**2+y_neg_total_field**2+z_neg_total_field**2)\n",
    "    print('total postive polarity field: ' + str(np.round(total_neg_field,2)) + ' G')\n",
    "    \n",
    "    pos_angle = np.rad2deg(np.arctan(z_pos_total_field/y_pos_total_field))\n",
    "    print('positive polarity angle: ' + str(np.round(pos_angle,2)) + 'º')\n",
    "    \n",
    "    neg_angle = np.rad2deg(np.arctan(z_neg_total_field/y_neg_total_field))\n",
    "    print('negative polarity angle: ' + str(np.round(neg_angle,2)) + 'º')\n",
    "    \n",
    "    print('currents for x, y, z for positive polarity: ', round(x_curr,1), round(y_pos_curr,1), round(z_pos_curr,1))\n",
    "    \n",
    "    print('currents for x, y, z for negative polarity: ', round(x_curr,1), round(y_neg_curr,1), round(z_neg_curr,1))"
   ]
  },
  {
   "cell_type": "code",
   "execution_count": 37,
   "metadata": {},
   "outputs": [
    {
     "name": "stdout",
     "output_type": "stream",
     "text": [
      "total postive polarity field: 9.0 G\n",
      "total postive polarity field: 9.0 G\n",
      "positive polarity angle: 35.26º\n",
      "negative polarity angle: 35.26º\n",
      "currents for x, y, z for positive polarity:  28.0 1439.8 1003.9\n",
      "currents for x, y, z for negative polarity:  28.0 1499.8 1053.1\n"
     ]
    }
   ],
   "source": [
    "balance_field(room_x, room_y, room_z)"
   ]
  },
  {
   "cell_type": "code",
   "execution_count": 8,
   "metadata": {},
   "outputs": [],
   "source": [
    "def field_calc(y_curr):\n",
    "    y_field = y_curr/1000*500/100\n",
    "    z_curr = y_curr * np.tan(35/180*np.pi)\n",
    "    z_field = z_curr/1000*500/100\n",
    "    total_field = np.sqrt(y_field**2+z_field**2)\n",
    "    print(total_field, z_curr)"
   ]
  },
  {
   "cell_type": "code",
   "execution_count": 9,
   "metadata": {},
   "outputs": [
    {
     "name": "stdout",
     "output_type": "stream",
     "text": [
      "9.155809415710921 1050.3113073145646\n"
     ]
    }
   ],
   "source": [
    "field_calc(1500)"
   ]
  },
  {
   "cell_type": "code",
   "execution_count": null,
   "metadata": {},
   "outputs": [],
   "source": []
  },
  {
   "cell_type": "code",
   "execution_count": null,
   "metadata": {},
   "outputs": [],
   "source": []
  }
 ],
 "metadata": {
  "kernelspec": {
   "display_name": "Python 3",
   "language": "python",
   "name": "python3"
  },
  "language_info": {
   "codemirror_mode": {
    "name": "ipython",
    "version": 3
   },
   "file_extension": ".py",
   "mimetype": "text/x-python",
   "name": "python",
   "nbconvert_exporter": "python",
   "pygments_lexer": "ipython3",
   "version": "3.7.6"
  }
 },
 "nbformat": 4,
 "nbformat_minor": 4
}
