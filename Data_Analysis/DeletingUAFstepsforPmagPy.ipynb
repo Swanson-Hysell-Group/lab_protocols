{
 "cells": [
  {
   "cell_type": "code",
   "execution_count": 3,
   "metadata": {
    "collapsed": true
   },
   "outputs": [],
   "source": [
    "import glob\n",
    "import os.path"
   ]
  },
  {
   "cell_type": "markdown",
   "metadata": {},
   "source": [
    "# Deleting lines in sample files"
   ]
  },
  {
   "cell_type": "markdown",
   "metadata": {},
   "source": [
    "This protocol can be used to delete lines containing key phrases (either measurement codes or temperature/field level) from many files within a given folder.  It writes a new file without these lines in a given folder (here MagIC).  The example here was used to delete unaxial AF steps so that specimen files could be read into the PmagPy analysis software.\n",
    "\n",
    "Unix codes sed and awk can be investigated for renaming steps if needed in the future."
   ]
  },
  {
   "cell_type": "code",
   "execution_count": 4,
   "metadata": {
    "collapsed": false
   },
   "outputs": [],
   "source": [
    "bad_words = ['UAFX10', 'UAFX20', 'UAFZ10']\n",
    "\n",
    "filename = glob.glob('PF18-*b')\n",
    "\n",
    "for i in filename:\n",
    "    with open(i) as oldfile, open(os.path.join('./MagIC/', i), 'w') as newfile:\n",
    "        for line in oldfile:\n",
    "            if not any(bad_word in line for bad_word in bad_words):\n",
    "                newfile.write(line)"
   ]
  }
 ],
 "metadata": {
  "anaconda-cloud": {},
  "kernelspec": {
   "display_name": "Python [conda env:py35]",
   "language": "python",
   "name": "conda-env-py35-py"
  },
  "language_info": {
   "codemirror_mode": {
    "name": "ipython",
    "version": 3
   },
   "file_extension": ".py",
   "mimetype": "text/x-python",
   "name": "python",
   "nbconvert_exporter": "python",
   "pygments_lexer": "ipython3",
   "version": "3.5.2"
  }
 },
 "nbformat": 4,
 "nbformat_minor": 1
}
