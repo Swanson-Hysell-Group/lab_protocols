{
 "cells": [
  {
   "cell_type": "markdown",
   "metadata": {},
   "source": [
    "# AF IZZI PINT file step name correction\n",
    "\n",
    "This notebook is for overwriting the names of magnetometer measurement rows in CIT files with AF steps after each in-field step.  \n",
    "\n",
    "Jan 2020 updates:\n",
    "- On anorthosite xenolith project Yiming had two sets of anorthosites/diabase with same IZZI steps, one site treated with AF 20 mT after each in-field step, and the other without. \n",
    "- This update for the code reads in the name of each temperature step from the \"NRM\" set and use the list to overwrite the step names for the \"AF\" set. \n",
    "\n",
    "**** Important caveat: The AF group magnetometer files can only be run once. If you encounter any issue/edits after a run, you need to load raw files again and replace the edited files. Because the code FORCE DELETE the 3rd line where NRM measurement sits in the AF batch files. If you run on the same files more than once the code will treat the next row as NRM and delete it my mistake."
   ]
  },
  {
   "cell_type": "markdown",
   "metadata": {},
   "source": [
    "## making functions"
   ]
  },
  {
   "cell_type": "code",
   "execution_count": 1,
   "metadata": {},
   "outputs": [],
   "source": [
    "def get_specimen_list(SAM_file_path):\n",
    "    this_file = open(SAM_file_path, 'r')\n",
    "    lines = this_file.readlines()\n",
    "    specimen_list = list()\n",
    "    for i in range (2, len(lines)):\n",
    "        thisline = lines[i].split('\\n')\n",
    "        specimen_list.append(thisline[0])\n",
    "    return specimen_list\n",
    "\n",
    "def get_full_step_list(specimen_file_path):\n",
    "    this_file = open(specimen_file_path, 'r')\n",
    "    lines = this_file.readlines()\n",
    "    step_list = list()\n",
    "    for i in range (2, len(lines)):\n",
    "        thisline = lines[i].split(' ')\n",
    "        step_list.append(thisline[0])\n",
    "    return step_list\n",
    "\n",
    "def overwrite_AF_files(folder_path, specimen_list, step_list):\n",
    "    for i in range(len(specimen_list)):\n",
    "        this_file = open(folder_path+specimen_list[i], 'r')\n",
    "#         print(this_file)\n",
    "        lines = this_file.readlines()\n",
    "        lines.remove(lines[2])\n",
    "#         print(lines)\n",
    "        lines[2] = step_list[0] + '   ' + lines[2][6:]\n",
    "        \n",
    "        for j in range (3, len(lines)):\n",
    "            lines[j] = step_list[j-2]+ lines[j][6:]\n",
    "            \n",
    "#         print(lines)   \n",
    "        \n",
    "        result_file = open(folder_path+specimen_list[i], 'w')\n",
    "        for k in range(len(lines)):\n",
    "            result_file.write(lines[k])\n",
    "\n",
    "def cut_rows_short(folder_path, specimen_list):\n",
    "    for i in range(len(specimen_list)):\n",
    "        this_file = open(folder_path+specimen_list[i], 'r')\n",
    "#         print(this_file)\n",
    "        lines = this_file.readlines()\n",
    "#         lines.remove(lines[1])\n",
    "#         print(lines)\n",
    "        for j in range(3, len(lines)):\n",
    "#             print(lines[j][0:2])\n",
    "            if lines[j][0:2] == 'ZZ':\n",
    "                lines[j] = lines[j][3:6]+'.00'+lines[j][6:]\n",
    "            elif lines[j][0:2] == 'II':\n",
    "                lines[j] = lines[j][3:6]+'.10'+lines[j][6:]\n",
    "            elif lines[j][0:2] == 'PP':\n",
    "                lines[j] = lines[j][3:6]+'.20'+lines[j][6:]\n",
    "                \n",
    "#         print(lines)\n",
    "        result_file = open(folder_path+specimen_list[i], 'w')\n",
    "        \n",
    "        for k in range(len(lines)):\n",
    "            result_file.write(lines[k])\n"
   ]
  },
  {
   "cell_type": "code",
   "execution_count": 5,
   "metadata": {},
   "outputs": [],
   "source": [
    "# BD_AF_list = get_specimen_list('./BD_AF_PINT/BD_AF_PINT_old.sam')\n",
    "# Full_BD_step_list = get_full_step_list('./BD_NRM_PINT/BD7-2b')\n",
    "# overwrite_AF_files('./BD_AF_PINT/', BD_AF_list, Full_BD_step_list)"
   ]
  },
  {
   "cell_type": "code",
   "execution_count": 2,
   "metadata": {},
   "outputs": [],
   "source": [
    "# AX_AF_list = get_specimen_list('./AX_AF_PINT/AX_AF_PINT.sam')\n",
    "# Full_AX_step_list = get_full_step_list('./AX_NRM_PINT/AX1-1a')\n",
    "# overwrite_AF_files('./AX_AF_PINT/', AX_AF_list, Full_AX_step_list)"
   ]
  },
  {
   "cell_type": "code",
   "execution_count": 8,
   "metadata": {},
   "outputs": [],
   "source": [
    "# AK_specimen_list = get_specimen_list('./TAN3/TAN3.sam')\n",
    "# print(AK_specimen_list)\n",
    "# cut_rows_short('./TAN3/', AK_specimen_list)"
   ]
  },
  {
   "cell_type": "code",
   "execution_count": null,
   "metadata": {},
   "outputs": [],
   "source": []
  },
  {
   "cell_type": "code",
   "execution_count": null,
   "metadata": {},
   "outputs": [],
   "source": []
  },
  {
   "cell_type": "code",
   "execution_count": null,
   "metadata": {},
   "outputs": [],
   "source": []
  }
 ],
 "metadata": {
  "kernelspec": {
   "display_name": "Python 3",
   "language": "python",
   "name": "python3"
  },
  "language_info": {
   "codemirror_mode": {
    "name": "ipython",
    "version": 3
   },
   "file_extension": ".py",
   "mimetype": "text/x-python",
   "name": "python",
   "nbconvert_exporter": "python",
   "pygments_lexer": "ipython3",
   "version": "3.7.6"
  }
 },
 "nbformat": 4,
 "nbformat_minor": 4
}
