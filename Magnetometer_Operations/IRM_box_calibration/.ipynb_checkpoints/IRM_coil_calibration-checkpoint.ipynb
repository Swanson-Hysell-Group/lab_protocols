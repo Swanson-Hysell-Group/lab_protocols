{
 "cells": [
  {
   "cell_type": "markdown",
   "metadata": {},
   "source": [
    "# This notebook is for plotting the IRM box coils calibration \n",
    "\n",
    "units are voltage against kG (kilo gauss)"
   ]
  },
  {
   "cell_type": "code",
   "execution_count": 1,
   "metadata": {},
   "outputs": [],
   "source": [
    "import pandas as pd\n",
    "import numpy as np\n",
    "import matplotlib.pyplot as plt\n",
    "\n",
    "%matplotlib inline\n",
    "%config InlineBackend.figure_format='retina'"
   ]
  },
  {
   "cell_type": "code",
   "execution_count": 4,
   "metadata": {},
   "outputs": [],
   "source": [
    "# importing deming regression/orthogonal regression\n",
    "def orthoreg(xvals, yvals):\n",
    "    i = 0\n",
    "    xsum = 0\n",
    "    ysum = 0\n",
    "    n = len(xvals)\n",
    "    for i in range(n):\n",
    "        xsum = xsum + xvals[i]\n",
    "        ysum = ysum + yvals[i]\n",
    "    N = n*1.0\n",
    "    xm = xsum/N\n",
    "    ym = ysum/N\n",
    "    \n",
    "    sxx = 0\n",
    "    sxy = 0\n",
    "    syy = 0\n",
    "    for i in range (n):\n",
    "        sxx = sxx + (xvals[i]-xm) * (xvals[i] - xm)\n",
    "        sxy = sxy + (xvals[i]-xm) * (yvals[i] - ym)\n",
    "        syy = syy + (yvals[i]-ym) * (yvals[i] - ym)\n",
    "    sxx = sxx/(N-1)\n",
    "    sxy = sxy/(N-1)\n",
    "    syy = syy/(N-1)\n",
    "    \n",
    "    m = syy - sxx + ((syy - sxx) * (syy - sxx) + 4 * sxy * sxy)**0.5\n",
    "    m = m / (2 * sxy)\n",
    "    b = ym - m * xm\n",
    "    outlist = (m, b)\n",
    "    return outlist"
   ]
  },
  {
   "cell_type": "code",
   "execution_count": 2,
   "metadata": {},
   "outputs": [
    {
     "data": {
      "text/html": [
       "<div>\n",
       "<style scoped>\n",
       "    .dataframe tbody tr th:only-of-type {\n",
       "        vertical-align: middle;\n",
       "    }\n",
       "\n",
       "    .dataframe tbody tr th {\n",
       "        vertical-align: top;\n",
       "    }\n",
       "\n",
       "    .dataframe thead th {\n",
       "        text-align: right;\n",
       "    }\n",
       "</style>\n",
       "<table border=\"1\" class=\"dataframe\">\n",
       "  <thead>\n",
       "    <tr style=\"text-align: right;\">\n",
       "      <th></th>\n",
       "      <th>Voltage</th>\n",
       "      <th>Coil_1</th>\n",
       "      <th>Coil_2</th>\n",
       "    </tr>\n",
       "  </thead>\n",
       "  <tbody>\n",
       "    <tr>\n",
       "      <th>0</th>\n",
       "      <td>10</td>\n",
       "      <td>0.3618</td>\n",
       "      <td>0.9323</td>\n",
       "    </tr>\n",
       "    <tr>\n",
       "      <th>1</th>\n",
       "      <td>15</td>\n",
       "      <td>0.5386</td>\n",
       "      <td>1.4014</td>\n",
       "    </tr>\n",
       "    <tr>\n",
       "      <th>2</th>\n",
       "      <td>20</td>\n",
       "      <td>0.7206</td>\n",
       "      <td>1.8674</td>\n",
       "    </tr>\n",
       "    <tr>\n",
       "      <th>3</th>\n",
       "      <td>25</td>\n",
       "      <td>0.9041</td>\n",
       "      <td>2.3422</td>\n",
       "    </tr>\n",
       "    <tr>\n",
       "      <th>4</th>\n",
       "      <td>50</td>\n",
       "      <td>1.8145</td>\n",
       "      <td>4.7239</td>\n",
       "    </tr>\n",
       "    <tr>\n",
       "      <th>5</th>\n",
       "      <td>75</td>\n",
       "      <td>2.7247</td>\n",
       "      <td>7.1873</td>\n",
       "    </tr>\n",
       "    <tr>\n",
       "      <th>6</th>\n",
       "      <td>100</td>\n",
       "      <td>3.6203</td>\n",
       "      <td>9.4760</td>\n",
       "    </tr>\n",
       "    <tr>\n",
       "      <th>7</th>\n",
       "      <td>150</td>\n",
       "      <td>5.4250</td>\n",
       "      <td>14.2360</td>\n",
       "    </tr>\n",
       "    <tr>\n",
       "      <th>8</th>\n",
       "      <td>200</td>\n",
       "      <td>7.2340</td>\n",
       "      <td>18.9920</td>\n",
       "    </tr>\n",
       "    <tr>\n",
       "      <th>9</th>\n",
       "      <td>250</td>\n",
       "      <td>9.0360</td>\n",
       "      <td>23.7850</td>\n",
       "    </tr>\n",
       "    <tr>\n",
       "      <th>10</th>\n",
       "      <td>300</td>\n",
       "      <td>10.8280</td>\n",
       "      <td>28.5450</td>\n",
       "    </tr>\n",
       "    <tr>\n",
       "      <th>11</th>\n",
       "      <td>350</td>\n",
       "      <td>12.6290</td>\n",
       "      <td>33.2720</td>\n",
       "    </tr>\n",
       "    <tr>\n",
       "      <th>12</th>\n",
       "      <td>400</td>\n",
       "      <td>14.3800</td>\n",
       "      <td>37.9980</td>\n",
       "    </tr>\n",
       "    <tr>\n",
       "      <th>13</th>\n",
       "      <td>445</td>\n",
       "      <td>15.8910</td>\n",
       "      <td>41.8580</td>\n",
       "    </tr>\n",
       "  </tbody>\n",
       "</table>\n",
       "</div>"
      ],
      "text/plain": [
       "    Voltage   Coil_1   Coil_2\n",
       "0        10   0.3618   0.9323\n",
       "1        15   0.5386   1.4014\n",
       "2        20   0.7206   1.8674\n",
       "3        25   0.9041   2.3422\n",
       "4        50   1.8145   4.7239\n",
       "5        75   2.7247   7.1873\n",
       "6       100   3.6203   9.4760\n",
       "7       150   5.4250  14.2360\n",
       "8       200   7.2340  18.9920\n",
       "9       250   9.0360  23.7850\n",
       "10      300  10.8280  28.5450\n",
       "11      350  12.6290  33.2720\n",
       "12      400  14.3800  37.9980\n",
       "13      445  15.8910  41.8580"
      ]
     },
     "execution_count": 2,
     "metadata": {},
     "output_type": "execute_result"
    }
   ],
   "source": [
    "calibration_data = pd.read_csv('calibration_data.csv' ,header=0)\n",
    "calibration_data"
   ]
  },
  {
   "cell_type": "code",
   "execution_count": 8,
   "metadata": {},
   "outputs": [],
   "source": [
    "coil_1_m, coil_1_b = orthoreg(calibration_data['Voltage'], calibration_data['Coil_1'])"
   ]
  },
  {
   "cell_type": "code",
   "execution_count": 13,
   "metadata": {},
   "outputs": [
    {
     "data": {
      "image/png": "[encoded data removed]",
      "text/plain": [
       "<Figure size 432x288 with 1 Axes>"
      ]
     },
     "metadata": {
      "image/png": {
       "height": 277,
       "width": 382
      },
      "needs_background": "light"
     },
     "output_type": "display_data"
    },
    {
     "name": "stdout",
     "output_type": "stream",
     "text": [
      "0.036 0.024\n"
     ]
    }
   ],
   "source": [
    "plt.scatter(calibration_data['Voltage'], calibration_data['Coil_1'], color='C0')\n",
    "plt.plot([0,400], [coil_1_b, 400*coil_1_m+coil_1_b])\n",
    "plt.title('Scatter plot of Coil 1 field against voltage')\n",
    "plt.xlabel('Voltage (V)')\n",
    "plt.ylabel('Field (kG)')\n",
    "plt.show()\n",
    "print(round(coil_1_m,3),  round(coil_1_b,3))"
   ]
  },
  {
   "cell_type": "code",
   "execution_count": 23,
   "metadata": {},
   "outputs": [],
   "source": [
    "def coil_1_field(V):\n",
    "    # calcualtes the field generated by coil 1 given a voltage\n",
    "    return round(0.036*V + 0.024,3)"
   ]
  },
  {
   "cell_type": "code",
   "execution_count": 24,
   "metadata": {},
   "outputs": [
    {
     "data": {
      "text/plain": [
       "0.132"
      ]
     },
     "execution_count": 24,
     "metadata": {},
     "output_type": "execute_result"
    }
   ],
   "source": [
    "coil_1_field(3)"
   ]
  },
  {
   "cell_type": "code",
   "execution_count": 15,
   "metadata": {},
   "outputs": [],
   "source": [
    "coil_2_m, coil_2_b = orthoreg(calibration_data['Voltage'], calibration_data['Coil_2'])"
   ]
  },
  {
   "cell_type": "code",
   "execution_count": 17,
   "metadata": {},
   "outputs": [
    {
     "data": {
      "image/png": "[encoded data removed]",
      "text/plain": [
       "<Figure size 432x288 with 1 Axes>"
      ]
     },
     "metadata": {
      "image/png": {
       "height": 277,
       "width": 382
      },
      "needs_background": "light"
     },
     "output_type": "display_data"
    },
    {
     "name": "stdout",
     "output_type": "stream",
     "text": [
      "0.095 0.017\n"
     ]
    }
   ],
   "source": [
    "plt.scatter(calibration_data['Voltage'], calibration_data['Coil_2'], color = 'C1')\n",
    "plt.plot([0,400], [coil_2_b, 400*coil_2_m+coil_2_b], color = 'C1')\n",
    "plt.title('Scatter plot of Coil 2 field against voltage')\n",
    "plt.xlabel('Voltage (V)')\n",
    "plt.ylabel('Field (kG)')\n",
    "plt.show()\n",
    "print(round(coil_2_m,3),  round(coil_2_b,3))"
   ]
  },
  {
   "cell_type": "code",
   "execution_count": 25,
   "metadata": {},
   "outputs": [],
   "source": [
    "def coil_2_field(V):\n",
    "    # calcualtes the field generated by coil 1 given a voltage\n",
    "    return round(0.095*V + 0.017,3)"
   ]
  },
  {
   "cell_type": "code",
   "execution_count": null,
   "metadata": {},
   "outputs": [],
   "source": []
  },
  {
   "cell_type": "code",
   "execution_count": null,
   "metadata": {},
   "outputs": [],
   "source": []
  },
  {
   "cell_type": "code",
   "execution_count": null,
   "metadata": {},
   "outputs": [],
   "source": []
  },
  {
   "cell_type": "code",
   "execution_count": null,
   "metadata": {},
   "outputs": [],
   "source": []
  },
  {
   "cell_type": "code",
   "execution_count": null,
   "metadata": {},
   "outputs": [],
   "source": []
  },
  {
   "cell_type": "code",
   "execution_count": null,
   "metadata": {},
   "outputs": [],
   "source": []
  },
  {
   "cell_type": "code",
   "execution_count": null,
   "metadata": {},
   "outputs": [],
   "source": []
  },
  {
   "cell_type": "code",
   "execution_count": null,
   "metadata": {},
   "outputs": [],
   "source": []
  },
  {
   "cell_type": "code",
   "execution_count": null,
   "metadata": {},
   "outputs": [],
   "source": []
  },
  {
   "cell_type": "code",
   "execution_count": null,
   "metadata": {},
   "outputs": [],
   "source": []
  }
 ],
 "metadata": {
  "kernelspec": {
   "display_name": "Python 3",
   "language": "python",
   "name": "python3"
  },
  "language_info": {
   "codemirror_mode": {
    "name": "ipython",
    "version": 3
   },
   "file_extension": ".py",
   "mimetype": "text/x-python",
   "name": "python",
   "nbconvert_exporter": "python",
   "pygments_lexer": "ipython3",
   "version": "3.7.6"
  }
 },
 "nbformat": 4,
 "nbformat_minor": 4
}
