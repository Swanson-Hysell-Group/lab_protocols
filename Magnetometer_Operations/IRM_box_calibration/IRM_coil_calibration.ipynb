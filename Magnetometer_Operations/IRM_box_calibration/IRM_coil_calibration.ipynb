{
 "cells": [
  {
   "cell_type": "markdown",
   "metadata": {},
   "source": [
    "# This notebook is for plotting the IRM box coils calibration \n",
    "\n",
    "units are voltage against mT"
   ]
  },
  {
   "cell_type": "code",
   "execution_count": 1,
   "metadata": {},
   "outputs": [],
   "source": [
    "import pandas as pd\n",
    "import numpy as np\n",
    "import matplotlib.pyplot as plt\n",
    "\n",
    "%matplotlib inline\n",
    "%config InlineBackend.figure_format='retina'"
   ]
  },
  {
   "cell_type": "code",
   "execution_count": 2,
   "metadata": {},
   "outputs": [],
   "source": [
    "# importing deming regression/orthogonal regression\n",
    "def orthoreg(xvals, yvals):\n",
    "    i = 0\n",
    "    xsum = 0\n",
    "    ysum = 0\n",
    "    n = len(xvals)\n",
    "    for i in range(n):\n",
    "        xsum = xsum + xvals[i]\n",
    "        ysum = ysum + yvals[i]\n",
    "    N = n*1.0\n",
    "    xm = xsum/N\n",
    "    ym = ysum/N\n",
    "    \n",
    "    sxx = 0\n",
    "    sxy = 0\n",
    "    syy = 0\n",
    "    for i in range (n):\n",
    "        sxx = sxx + (xvals[i]-xm) * (xvals[i] - xm)\n",
    "        sxy = sxy + (xvals[i]-xm) * (yvals[i] - ym)\n",
    "        syy = syy + (yvals[i]-ym) * (yvals[i] - ym)\n",
    "    sxx = sxx/(N-1)\n",
    "    sxy = sxy/(N-1)\n",
    "    syy = syy/(N-1)\n",
    "    \n",
    "    m = syy - sxx + ((syy - sxx) * (syy - sxx) + 4 * sxy * sxy)**0.5\n",
    "    m = m / (2 * sxy)\n",
    "    b = ym - m * xm\n",
    "    outlist = (m, b)\n",
    "    return outlist"
   ]
  },
  {
   "cell_type": "code",
   "execution_count": 3,
   "metadata": {},
   "outputs": [
    {
     "data": {
      "text/html": [
       "<div>\n",
       "<style scoped>\n",
       "    .dataframe tbody tr th:only-of-type {\n",
       "        vertical-align: middle;\n",
       "    }\n",
       "\n",
       "    .dataframe tbody tr th {\n",
       "        vertical-align: top;\n",
       "    }\n",
       "\n",
       "    .dataframe thead th {\n",
       "        text-align: right;\n",
       "    }\n",
       "</style>\n",
       "<table border=\"1\" class=\"dataframe\">\n",
       "  <thead>\n",
       "    <tr style=\"text-align: right;\">\n",
       "      <th></th>\n",
       "      <th>Voltage</th>\n",
       "      <th>Coil_1</th>\n",
       "      <th>Coil_2</th>\n",
       "    </tr>\n",
       "  </thead>\n",
       "  <tbody>\n",
       "    <tr>\n",
       "      <th>0</th>\n",
       "      <td>10</td>\n",
       "      <td>36.18</td>\n",
       "      <td>93.23</td>\n",
       "    </tr>\n",
       "    <tr>\n",
       "      <th>1</th>\n",
       "      <td>15</td>\n",
       "      <td>53.86</td>\n",
       "      <td>140.14</td>\n",
       "    </tr>\n",
       "    <tr>\n",
       "      <th>2</th>\n",
       "      <td>20</td>\n",
       "      <td>72.06</td>\n",
       "      <td>186.74</td>\n",
       "    </tr>\n",
       "    <tr>\n",
       "      <th>3</th>\n",
       "      <td>25</td>\n",
       "      <td>90.41</td>\n",
       "      <td>234.22</td>\n",
       "    </tr>\n",
       "    <tr>\n",
       "      <th>4</th>\n",
       "      <td>50</td>\n",
       "      <td>181.45</td>\n",
       "      <td>472.39</td>\n",
       "    </tr>\n",
       "    <tr>\n",
       "      <th>5</th>\n",
       "      <td>75</td>\n",
       "      <td>272.47</td>\n",
       "      <td>718.73</td>\n",
       "    </tr>\n",
       "    <tr>\n",
       "      <th>6</th>\n",
       "      <td>100</td>\n",
       "      <td>362.03</td>\n",
       "      <td>947.60</td>\n",
       "    </tr>\n",
       "    <tr>\n",
       "      <th>7</th>\n",
       "      <td>150</td>\n",
       "      <td>542.50</td>\n",
       "      <td>1423.60</td>\n",
       "    </tr>\n",
       "    <tr>\n",
       "      <th>8</th>\n",
       "      <td>200</td>\n",
       "      <td>723.40</td>\n",
       "      <td>1899.20</td>\n",
       "    </tr>\n",
       "    <tr>\n",
       "      <th>9</th>\n",
       "      <td>250</td>\n",
       "      <td>903.60</td>\n",
       "      <td>2378.50</td>\n",
       "    </tr>\n",
       "    <tr>\n",
       "      <th>10</th>\n",
       "      <td>300</td>\n",
       "      <td>1082.80</td>\n",
       "      <td>2854.50</td>\n",
       "    </tr>\n",
       "    <tr>\n",
       "      <th>11</th>\n",
       "      <td>350</td>\n",
       "      <td>1262.90</td>\n",
       "      <td>3327.20</td>\n",
       "    </tr>\n",
       "    <tr>\n",
       "      <th>12</th>\n",
       "      <td>400</td>\n",
       "      <td>1438.00</td>\n",
       "      <td>3799.80</td>\n",
       "    </tr>\n",
       "    <tr>\n",
       "      <th>13</th>\n",
       "      <td>445</td>\n",
       "      <td>1589.10</td>\n",
       "      <td>4185.80</td>\n",
       "    </tr>\n",
       "  </tbody>\n",
       "</table>\n",
       "</div>"
      ],
      "text/plain": [
       "    Voltage   Coil_1   Coil_2\n",
       "0        10    36.18    93.23\n",
       "1        15    53.86   140.14\n",
       "2        20    72.06   186.74\n",
       "3        25    90.41   234.22\n",
       "4        50   181.45   472.39\n",
       "5        75   272.47   718.73\n",
       "6       100   362.03   947.60\n",
       "7       150   542.50  1423.60\n",
       "8       200   723.40  1899.20\n",
       "9       250   903.60  2378.50\n",
       "10      300  1082.80  2854.50\n",
       "11      350  1262.90  3327.20\n",
       "12      400  1438.00  3799.80\n",
       "13      445  1589.10  4185.80"
      ]
     },
     "execution_count": 3,
     "metadata": {},
     "output_type": "execute_result"
    }
   ],
   "source": [
    "calibration_data = pd.read_csv('calibration_data.csv' ,header=0)\n",
    "calibration_data['Coil_1'] = calibration_data['Coil_1']*100\n",
    "calibration_data['Coil_2'] = calibration_data['Coil_2']*100\n",
    "calibration_data"
   ]
  },
  {
   "cell_type": "code",
   "execution_count": 4,
   "metadata": {},
   "outputs": [],
   "source": [
    "coil_1_m, coil_1_b = orthoreg(calibration_data['Voltage'], calibration_data['Coil_1'])"
   ]
  },
  {
   "cell_type": "code",
   "execution_count": 5,
   "metadata": {},
   "outputs": [],
   "source": [
    "coil_2_m, coil_2_b = orthoreg(calibration_data['Voltage'], calibration_data['Coil_2'])"
   ]
  },
  {
   "cell_type": "code",
   "execution_count": 6,
   "metadata": {},
   "outputs": [],
   "source": [
    "def coil_1_field(V):\n",
    "    # calcualtes the field generated by coil 1 given a voltage\n",
    "    return round(coil_1_m*V + coil_1_b,3)\n",
    "\n",
    "def what_volt(field, coil):\n",
    "    #field in mT\n",
    "    if coil == 1:\n",
    "        return round((field-coil_1_b)/coil_1_m,3)\n",
    "    if coil == 2:\n",
    "        return round((field-coil_2_b)/coil_2_m,3)\n",
    "def coil_2_field(V):\n",
    "    # calcualtes the field generated by coil 1 given a voltage\n",
    "    return round(coil_2_m*V + coil_2_b,3)"
   ]
  },
  {
   "cell_type": "code",
   "execution_count": 7,
   "metadata": {},
   "outputs": [
    {
     "data": {
      "image/png": "[encoded data removed]",
      "text/plain": [
       "<Figure size 432x288 with 1 Axes>"
      ]
     },
     "metadata": {
      "image/png": {
       "height": 277,
       "width": 395
      },
      "needs_background": "light"
     },
     "output_type": "display_data"
    },
    {
     "name": "stdout",
     "output_type": "stream",
     "text": [
      "3.589 2.353\n"
     ]
    }
   ],
   "source": [
    "plt.scatter(calibration_data['Voltage'], calibration_data['Coil_1'], color='C0')\n",
    "plt.plot([0,400], [coil_1_b, 400*coil_1_m+coil_1_b])\n",
    "plt.title('Scatter plot of Coil 1 field against voltage')\n",
    "plt.xlabel('Voltage (V)')\n",
    "plt.ylabel('Field (mT)')\n",
    "plt.show()\n",
    "print(round(coil_1_m,3),  round(coil_1_b,3))"
   ]
  },
  {
   "cell_type": "code",
   "execution_count": 13,
   "metadata": {},
   "outputs": [
    {
     "data": {
      "text/plain": [
       "9.532"
      ]
     },
     "execution_count": 13,
     "metadata": {},
     "output_type": "execute_result"
    }
   ],
   "source": [
    "coil_1_field(2)"
   ]
  },
  {
   "cell_type": "code",
   "execution_count": 9,
   "metadata": {},
   "outputs": [
    {
     "data": {
      "text/plain": [
       "277.97"
      ]
     },
     "execution_count": 9,
     "metadata": {},
     "output_type": "execute_result"
    }
   ],
   "source": [
    "what_volt(1000, 1)"
   ]
  },
  {
   "cell_type": "code",
   "execution_count": 10,
   "metadata": {},
   "outputs": [
    {
     "data": {
      "image/png": "[encoded data removed]",
      "text/plain": [
       "<Figure size 432x288 with 1 Axes>"
      ]
     },
     "metadata": {
      "image/png": {
       "height": 277,
       "width": 395
      },
      "needs_background": "light"
     },
     "output_type": "display_data"
    },
    {
     "name": "stdout",
     "output_type": "stream",
     "text": [
      "9.472 1.664\n"
     ]
    }
   ],
   "source": [
    "plt.scatter(calibration_data['Voltage'], calibration_data['Coil_2'], color = 'C1')\n",
    "plt.plot([0,400], [coil_2_b, 400*coil_2_m+coil_2_b], color = 'C1')\n",
    "plt.title('Scatter plot of Coil 2 field against voltage')\n",
    "plt.xlabel('Voltage (V)')\n",
    "plt.ylabel('Field (mT)')\n",
    "plt.show()\n",
    "print(round(coil_2_m,3),  round(coil_2_b,3))"
   ]
  },
  {
   "cell_type": "code",
   "execution_count": 11,
   "metadata": {},
   "outputs": [
    {
     "data": {
      "text/plain": [
       "96.385"
      ]
     },
     "execution_count": 11,
     "metadata": {},
     "output_type": "execute_result"
    }
   ],
   "source": [
    "coil_2_field(10)"
   ]
  },
  {
   "cell_type": "code",
   "execution_count": null,
   "metadata": {},
   "outputs": [],
   "source": []
  },
  {
   "cell_type": "code",
   "execution_count": null,
   "metadata": {},
   "outputs": [],
   "source": []
  },
  {
   "cell_type": "code",
   "execution_count": null,
   "metadata": {},
   "outputs": [],
   "source": []
  },
  {
   "cell_type": "code",
   "execution_count": null,
   "metadata": {},
   "outputs": [],
   "source": []
  },
  {
   "cell_type": "code",
   "execution_count": null,
   "metadata": {},
   "outputs": [],
   "source": []
  },
  {
   "cell_type": "code",
   "execution_count": null,
   "metadata": {},
   "outputs": [],
   "source": []
  },
  {
   "cell_type": "code",
   "execution_count": null,
   "metadata": {},
   "outputs": [],
   "source": []
  },
  {
   "cell_type": "code",
   "execution_count": null,
   "metadata": {},
   "outputs": [],
   "source": []
  },
  {
   "cell_type": "code",
   "execution_count": null,
   "metadata": {},
   "outputs": [],
   "source": []
  }
 ],
 "metadata": {
  "kernelspec": {
   "display_name": "Python 3",
   "language": "python",
   "name": "python3"
  },
  "language_info": {
   "codemirror_mode": {
    "name": "ipython",
    "version": 3
   },
   "file_extension": ".py",
   "mimetype": "text/x-python",
   "name": "python",
   "nbconvert_exporter": "python",
   "pygments_lexer": "ipython3",
   "version": "3.7.6"
  }
 },
 "nbformat": 4,
 "nbformat_minor": 4
}
